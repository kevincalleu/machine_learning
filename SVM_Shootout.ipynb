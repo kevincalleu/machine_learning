{
 "cells": [
  {
   "cell_type": "markdown",
   "metadata": {},
   "source": [
    "# Experimental Setup"
   ]
  },
  {
   "cell_type": "markdown",
   "metadata": {},
   "source": [
    "* AIM : To compare primal and dual SVM implementations\n",
    "* Dataset: ADULT dataset from UCI ML repository\n",
    "* CPU :            i7 2.3 GHz\n",
    "* Operating System: Ubuntu 12.10 64 bit\n",
    "* RAM: 8 GB\n",
    "* Python version: 2.7\n",
    "* Scikit-learn version: .13\n",
    "* IPython version: .13\n",
    "* IPython Number of Kernels used: 8\n",
    "\n"
   ]
  },
  {
   "cell_type": "markdown",
   "metadata": {},
   "source": [
    "# Data Preprocessing"
   ]
  },
  {
   "cell_type": "markdown",
   "metadata": {},
   "source": [
    "## Data Loading"
   ]
  },
  {
   "cell_type": "markdown",
   "metadata": {},
   "source": [
    "* We use Numpy's built in method to load the data from txt file. \n",
    "* We also specify various column headers in **data_headers**."
   ]
  },
  {
   "cell_type": "code",
   "execution_count": 1,
   "metadata": {},
   "outputs": [],
   "source": [
    "import numpy as np\n",
    "\n",
    "data_headers=['age','workclass','fnlwgt','education','education_num','marital_status','occupation','relationship','race','sex','capital_gain'\\\n",
    "              ,'capital_loss','hours_per_week','native_country','salary']"
   ]
  },
  {
   "cell_type": "code",
   "execution_count": 2,
   "metadata": {},
   "outputs": [],
   "source": [
    "data=np.array(np.genfromtxt('dataset.txt', dtype=(int, 'S32',int, 'S32',int,'S32'\\\n",
    ",'S32','S32','S32','S32',int,int,int,'S32','S32'),delimiter=',',autostrip=True,names=data_headers))\n",
    "\n",
    "\n",
    "\n"
   ]
  },
  {
   "cell_type": "markdown",
   "metadata": {},
   "source": [
    "* We now see the shape of the matrix obtained."
   ]
  },
  {
   "cell_type": "code",
   "execution_count": 3,
   "metadata": {},
   "outputs": [
    {
     "data": {
      "text/plain": [
       "(32561,)"
      ]
     },
     "execution_count": 3,
     "metadata": {},
     "output_type": "execute_result"
    }
   ],
   "source": [
    "data.shape"
   ]
  },
  {
   "cell_type": "markdown",
   "metadata": {},
   "source": [
    "## Handling Missing Values"
   ]
  },
  {
   "cell_type": "markdown",
   "metadata": {},
   "source": [
    "* We Deleting all the rows which contain '?' or missing values.\n",
    "* This could have also been done by replacing the missing value by the most common value in that column (for categorical attributes) or averaging (for continuous attributes)."
   ]
  },
  {
   "cell_type": "code",
   "execution_count": 4,
   "metadata": {},
   "outputs": [
    {
     "name": "stdout",
     "output_type": "stream",
     "text": [
      "2399  records have incomplete data and will be deleted\n"
     ]
    }
   ],
   "source": [
    "row_idx_to_delete=[]\n",
    "for i in range(0,len(data)):\n",
    "    if \"?\" in data[i]:\n",
    "        row_idx_to_delete.append(i)\n",
    "\n",
    "print len(row_idx_to_delete),\" records have incomplete data and will be deleted\"\n",
    "data=np.delete(data,row_idx_to_delete)\n"
   ]
  },
  {
   "cell_type": "markdown",
   "metadata": {},
   "source": [
    "## Converting Attributes to Discrete Type"
   ]
  },
  {
   "cell_type": "markdown",
   "metadata": {},
   "source": [
    "* Firstly, we plot the histogram for **age** to find out where to split."
   ]
  },
  {
   "cell_type": "code",
   "execution_count": 5,
   "metadata": {},
   "outputs": [
    {
     "data": {
      "image/png": "[encoded data removed]"
     },
     "metadata": {},
     "output_type": "display_data"
    }
   ],
   "source": [
    "hist(data['age'],3);"
   ]
  },
  {
   "cell_type": "markdown",
   "metadata": {},
   "source": [
    "From the histogram, we observe that the attribute **age** can be split as follows:\n",
    "\n",
    "* 0:    age<30            \n",
    "* 1:    age>=30 and age<=55\n",
    "* 2:    age>=55      \n"
   ]
  },
  {
   "cell_type": "code",
   "execution_count": 6,
   "metadata": {},
   "outputs": [],
   "source": [
    "idx_age_0=data['age']<30\n",
    "idx_age_1=(data['age']>=30) & (data['age']<=55)\n",
    "idx_age_2=data['age']>55\n",
    "\n",
    "\n",
    "\n",
    "data['age'][idx_age_0]=0\n",
    "data['age'][idx_age_1]=1\n",
    "data['age'][idx_age_2]=2\n",
    "\n"
   ]
  },
  {
   "cell_type": "markdown",
   "metadata": {},
   "source": [
    "* Next for **workclass** attribute we convert categorical quantities into numerical quantities."
   ]
  },
  {
   "cell_type": "code",
   "execution_count": 7,
   "metadata": {},
   "outputs": [],
   "source": [
    "workclass_attributes=[\"Private\", \"Self-emp-not-inc\", \"Self-emp-inc\", \"Federal-gov\",\\\n",
    " \"Local-gov\", \"State-gov\", \"Without-pay\", \"Never-worked\"]\n",
    "idx_workclass={}\n",
    "for workclass in workclass_attributes:\n",
    "    idx_workclass[workclass]=data[\"workclass\"]==workclass\n",
    "\n",
    "#Converting the datatype to integer now\n",
    "for i in range(0,len(workclass_attributes)):\n",
    "    data[\"workclass\"][idx_workclass[workclass_attributes[i]]]=int(i)"
   ]
  },
  {
   "cell_type": "markdown",
   "metadata": {},
   "source": [
    "* **Fnlwgt** is a continuous attribute. We plot it to estimate a numerical range (since we are not doing regression)."
   ]
  },
  {
   "cell_type": "code",
   "execution_count": 8,
   "metadata": {},
   "outputs": [
    {
     "data": {
      "text/plain": [
       "([105702.5,\n",
       "  289569.5,\n",
       "  473436.5,\n",
       "  657303.5,\n",
       "  841170.5,\n",
       "  1025037.5,\n",
       "  1208904.5,\n",
       "  1392771.5],\n",
       " array([18283, 10410,  1291,   142,    21,     7,     5,     3]))"
      ]
     },
     "execution_count": 8,
     "metadata": {},
     "output_type": "execute_result"
    },
    {
     "data": {
      "image/png": "[encoded data removed]"
     },
     "metadata": {},
     "output_type": "display_data"
    }
   ],
   "source": [
    "a=hist(data['fnlwgt'],8)\n",
    "means=[(a[1][i]+a[1][i+1])/2.0 for i in range(0,len(a[1])-1)]\n",
    "means,a[0]"
   ]
  },
  {
   "cell_type": "markdown",
   "metadata": {},
   "source": [
    "Thus the attribute can be split as follows:\n",
    "\n",
    "* 0:    fnlwgt<=105702\n",
    "* 1:    fnlwgt>105702 and fnlwgt<=289569\n",
    "* 2:    fnlwgt>289569"
   ]
  },
  {
   "cell_type": "code",
   "execution_count": 9,
   "metadata": {},
   "outputs": [],
   "source": [
    "idx_wgt_0=data['fnlwgt']<=105702\n",
    "idx_wgt_1=(data['fnlwgt']>=105702) & (data['fnlwgt']<=289569) \n",
    "idx_wgt_2=data['fnlwgt']>=289569\n",
    "\n",
    "\n",
    "data['fnlwgt'][idx_wgt_0]=0\n",
    "data['fnlwgt'][idx_wgt_1]=1\n",
    "data['fnlwgt'][idx_wgt_2]=2\n"
   ]
  },
  {
   "cell_type": "markdown",
   "metadata": {},
   "source": [
    "* **Education** is a categorical attribute and is here converted to numerical attribute."
   ]
  },
  {
   "cell_type": "code",
   "execution_count": 10,
   "metadata": {},
   "outputs": [],
   "source": [
    "education_attributes=[\"Bachelors\", \"Some-college\", \"11th\", \"HS-grad\", \"Prof-school\", \"Assoc-acdm\", \"Assoc-voc\"\\\n",
    ", \"9th\", \"7th-8th\", \"12th\", \"Masters\", \"1st-4th\", \"10th\", \"Doctorate\", \"5th-6th\", \"Preschool\"]"
   ]
  },
  {
   "cell_type": "code",
   "execution_count": 11,
   "metadata": {},
   "outputs": [],
   "source": [
    "idx_education={}\n",
    "for education in education_attributes:\n",
    "    idx_education[education]=data[\"education\"]==education\n",
    "\n",
    "#Converting the datatype to integer now\n",
    "\n",
    "for i in range(0,len(education_attributes)):\n",
    "    data[\"education\"][idx_education[education_attributes[i]]]=int(i)"
   ]
  },
  {
   "cell_type": "markdown",
   "metadata": {},
   "source": [
    "* **Education number** is a continuous numeric attribute."
   ]
  },
  {
   "cell_type": "code",
   "execution_count": 13,
   "metadata": {},
   "outputs": [
    {
     "data": {
      "text/plain": [
       "([2.875, 6.625, 10.375, 14.125], array([ 1041,  2700, 18833,  7588]))"
      ]
     },
     "execution_count": 13,
     "metadata": {},
     "output_type": "execute_result"
    },
    {
     "data": {
      "image/png": "[encoded data removed]"
     },
     "metadata": {},
     "output_type": "display_data"
    }
   ],
   "source": [
    "a=hist(data['education_num'],4)\n",
    "means=[(a[1][i]+a[1][i+1])/2.0 for i in range(0,len(a[1])-1)]\n",
    "means,a[0]"
   ]
  },
  {
   "cell_type": "markdown",
   "metadata": {},
   "source": [
    "Thus, the attribute can be split as follows:\n",
    "\n",
    "* 0:    education_num<2.9\n",
    "* 1:    education_num>2.9 and education_num<=6.7\n",
    "* 2:    education_num>6.7 and education_num<=10.4\n",
    "* 3:    education_num>10.4"
   ]
  },
  {
   "cell_type": "code",
   "execution_count": 14,
   "metadata": {},
   "outputs": [],
   "source": [
    "idx_enum_0=data['education_num']<=means[0]\n",
    "idx_enum_1=(data['education_num']>means[0]) & (data['education_num']<=means[1]) \n",
    "idx_enum_2=(data['education_num']>=means[1]) & (data['education_num']<=means[2])\n",
    "idx_enum_3=data['education_num']>means[2]\n",
    "\n",
    "\n",
    "data['education_num'][idx_enum_0]=0\n",
    "data['education_num'][idx_enum_1]=1\n",
    "data['education_num'][idx_enum_2]=2\n",
    "data['education_num'][idx_enum_3]=3\n"
   ]
  },
  {
   "cell_type": "markdown",
   "metadata": {},
   "source": [
    "* Similarly for all other datatypes we perform similar conversion."
   ]
  },
  {
   "cell_type": "code",
   "execution_count": 15,
   "metadata": {},
   "outputs": [],
   "source": [
    "marital_status_attributes=['Married-civ-spouse', 'Divorced', 'Never-married', 'Separated', 'Widowed',\\\n",
    " 'Married-spouse-absent','Married-AF-spouse']\n"
   ]
  },
  {
   "cell_type": "code",
   "execution_count": 16,
   "metadata": {},
   "outputs": [],
   "source": [
    "idx_marital_status={}\n",
    "for marital_status in marital_status_attributes:\n",
    "    idx_marital_status[marital_status]=data[\"marital_status\"]==marital_status\n",
    "\n",
    "#Converting the datatype to integer now\n",
    "\n",
    "for i in range(0,len(marital_status_attributes)):\n",
    "    data[\"marital_status\"][idx_marital_status[marital_status_attributes[i]]]=int(i)"
   ]
  },
  {
   "cell_type": "code",
   "execution_count": 17,
   "metadata": {},
   "outputs": [],
   "source": [
    "occupation_attributes=['Tech-support', 'Craft-repair', 'Other-service', 'Sales', 'Exec-managerial', 'Prof-specialty', 'Handlers-cleaners',\\\n",
    " 'Machine-op-inspct', 'Adm-clerical', 'Farming-fishing', 'Transport-moving', 'Priv-house-serv', 'Protective-serv', 'Armed-Forces']"
   ]
  },
  {
   "cell_type": "code",
   "execution_count": 18,
   "metadata": {},
   "outputs": [],
   "source": [
    "idx_occupation={}\n",
    "for occupation in occupation_attributes:\n",
    "    idx_occupation[occupation]=data[\"occupation\"]==occupation\n",
    "\n",
    "#Converting the datatype to integer now\n",
    "\n",
    "for i in range(0,len(occupation_attributes)):\n",
    "    data[\"occupation\"][idx_occupation[occupation_attributes[i]]]=int(i)"
   ]
  },
  {
   "cell_type": "code",
   "execution_count": 19,
   "metadata": {},
   "outputs": [],
   "source": [
    "relationship_attributes=['Wife', 'Own-child', 'Husband', 'Not-in-family', 'Other-relative', 'Unmarried']"
   ]
  },
  {
   "cell_type": "code",
   "execution_count": 20,
   "metadata": {},
   "outputs": [],
   "source": [
    "idx_relationship={}\n",
    "for relationship in relationship_attributes:\n",
    "    idx_relationship[relationship]=data[\"relationship\"]==relationship\n",
    "\n",
    "#Converting the datatype to integer now\n",
    "\n",
    "for i in range(0,len(relationship_attributes)):\n",
    "    data[\"relationship\"][idx_relationship[relationship_attributes[i]]]=int(i)"
   ]
  },
  {
   "cell_type": "code",
   "execution_count": 21,
   "metadata": {},
   "outputs": [],
   "source": [
    "race_attributes=['White', 'Asian-Pac-Islander', 'Amer-Indian-Eskimo', 'Other', 'Black']"
   ]
  },
  {
   "cell_type": "code",
   "execution_count": 22,
   "metadata": {},
   "outputs": [],
   "source": [
    "idx_race={}\n",
    "for race in race_attributes:\n",
    "    idx_race[race]=data[\"race\"]==race\n",
    "\n",
    "#Converting the datatype to integer now\n",
    "\n",
    "for i in range(0,len(race_attributes)):\n",
    "    data[\"race\"][idx_race[race_attributes[i]]]=int(i)"
   ]
  },
  {
   "cell_type": "code",
   "execution_count": 23,
   "metadata": {},
   "outputs": [],
   "source": [
    "sex_attributes=['Female', 'Male']\n"
   ]
  },
  {
   "cell_type": "code",
   "execution_count": 24,
   "metadata": {},
   "outputs": [],
   "source": [
    "idx_sex={}\n",
    "for sex in sex_attributes:\n",
    "    idx_sex[sex]=data[\"sex\"]==sex\n",
    "\n",
    "#Converting the datatype to integer now\n",
    "\n",
    "for i in range(0,len(sex_attributes)):\n",
    "    data[\"sex\"][idx_sex[sex_attributes[i]]]=int(i)"
   ]
  },
  {
   "cell_type": "code",
   "execution_count": 25,
   "metadata": {},
   "outputs": [
    {
     "data": {
      "text/plain": [
       "([24999.75, 74999.25], array([30014,   148]))"
      ]
     },
     "execution_count": 25,
     "metadata": {},
     "output_type": "execute_result"
    },
    {
     "data": {
      "image/png": "[encoded data removed]"
     },
     "metadata": {},
     "output_type": "display_data"
    }
   ],
   "source": [
    "a=hist(data['capital_gain'],2)\n",
    "means=[(a[1][i]+a[1][i+1])/2.0 for i in range(0,len(a[1])-1)]\n",
    "means,a[0]"
   ]
  },
  {
   "cell_type": "code",
   "execution_count": 26,
   "metadata": {},
   "outputs": [],
   "source": [
    "idx_cap_gain_0=data['capital_gain']<=means[0]\n",
    "idx_cap_gain_1=(data['capital_gain']>means[0]) & (data['capital_gain']<=means[1]) \n",
    "\n",
    "\n",
    "data['capital_gain'][idx_cap_gain_0]=0\n",
    "data['capital_gain'][idx_cap_gain_1]=1\n"
   ]
  },
  {
   "cell_type": "code",
   "execution_count": 27,
   "metadata": {},
   "outputs": [
    {
     "data": {
      "text/plain": [
       "([1089.0, 3267.0], array([29955,   207]))"
      ]
     },
     "execution_count": 27,
     "metadata": {},
     "output_type": "execute_result"
    },
    {
     "data": {
      "image/png": "[encoded data removed]"
     },
     "metadata": {},
     "output_type": "display_data"
    }
   ],
   "source": [
    "a=hist(data['capital_loss'],2)\n",
    "means=[(a[1][i]+a[1][i+1])/2.0 for i in range(0,len(a[1])-1)]\n",
    "means,a[0]"
   ]
  },
  {
   "cell_type": "code",
   "execution_count": 28,
   "metadata": {},
   "outputs": [],
   "source": [
    "idx_cap_loss_0=data['capital_loss']<=means[0]\n",
    "idx_cap_loss_1=(data['capital_loss']>means[0]) & (data['capital_loss']<=means[1]) \n",
    "\n",
    "\n",
    "data['capital_loss'][idx_cap_loss_0]=0\n",
    "data['capital_loss'][idx_cap_loss_1]=1"
   ]
  },
  {
   "cell_type": "code",
   "execution_count": 29,
   "metadata": {},
   "outputs": [
    {
     "data": {
      "text/plain": [
       "([13.25, 37.75, 62.25, 86.75], array([ 3261, 20708,  5798,   395]))"
      ]
     },
     "execution_count": 29,
     "metadata": {},
     "output_type": "execute_result"
    },
    {
     "data": {
      "image/png": "[encoded data removed]"
     },
     "metadata": {},
     "output_type": "display_data"
    }
   ],
   "source": [
    "a=hist(data['hours_per_week'],4)\n",
    "means=[(a[1][i]+a[1][i+1])/2.0 for i in range(0,len(a[1])-1)]\n",
    "means,a[0]"
   ]
  },
  {
   "cell_type": "code",
   "execution_count": 30,
   "metadata": {},
   "outputs": [],
   "source": [
    "idx_hours_0=data['hours_per_week']<=means[0]\n",
    "idx_hours_1=(data['hours_per_week']>means[0]) & (data['hours_per_week']<=means[1]) \n",
    "idx_hours_2=(data['hours_per_week']>=means[1]) & (data['hours_per_week']<=means[2])\n",
    "idx_hours_3=data['hours_per_week']>means[2]\n",
    "\n",
    "\n",
    "data['hours_per_week'][idx_hours_0]=0\n",
    "data['hours_per_week'][idx_hours_1]=1\n",
    "data['hours_per_week'][idx_hours_2]=2\n",
    "data['hours_per_week'][idx_hours_3]=3\n"
   ]
  },
  {
   "cell_type": "code",
   "execution_count": 31,
   "metadata": {},
   "outputs": [],
   "source": [
    "native_country_attributes=['United-States', 'Cambodia', 'England', 'Puerto-Rico', 'Canada', 'Germany', 'Outlying-US(Guam-USVI-etc)'\\\n",
    ",'India', 'Japan', 'Greece', 'South', 'China', 'Cuba', 'Iran', 'Honduras', 'Philippines', 'Italy', 'Poland', 'Jamaica', 'Vietnam'\n",
    ", 'Mexico', 'Portugal', 'Ireland', 'France', 'Dominican-Republic', 'Laos', 'Ecuador', 'Taiwan', 'Haiti', 'Columbia', 'Hungary', 'Guatemala',\n",
    "'Nicaragua', 'Scotland', 'Thailand', 'Yugoslavia', 'El-Salvador', 'Trinadad&Tobago', 'Peru', 'Hong', 'Holand-Netherlands']"
   ]
  },
  {
   "cell_type": "code",
   "execution_count": 32,
   "metadata": {},
   "outputs": [],
   "source": [
    "idx_native_country={}\n",
    "for native_country in native_country_attributes:\n",
    "    idx_native_country[native_country]=data[\"native_country\"]==native_country\n",
    "\n",
    "#Converting the datatype to integer now\n",
    "\n",
    "for i in range(0,len(native_country_attributes)):\n",
    "    data[\"native_country\"][idx_native_country[native_country_attributes[i]]]=int(i)"
   ]
  },
  {
   "cell_type": "code",
   "execution_count": 33,
   "metadata": {},
   "outputs": [],
   "source": [
    "salary_attributes=['<=50K','>50K']\n"
   ]
  },
  {
   "cell_type": "code",
   "execution_count": 34,
   "metadata": {},
   "outputs": [],
   "source": [
    "idx_salary={}\n",
    "for salary in salary_attributes:\n",
    "    idx_salary[salary]=data[\"salary\"]==salary\n",
    "\n",
    "#Converting the datatype to integer now\n",
    "\n",
    "for i in range(0,len(salary_attributes)):\n",
    "    data[\"salary\"][idx_salary[salary_attributes[i]]]=int(i)"
   ]
  },
  {
   "cell_type": "markdown",
   "metadata": {},
   "source": [
    "* We save the filtered data after converting into numerical discrete quantities for each attribute."
   ]
  },
  {
   "cell_type": "code",
   "execution_count": 35,
   "metadata": {},
   "outputs": [],
   "source": [
    "np.savetxt('filtered.txt',data,fmt=\"%s\",delimiter=',')\n"
   ]
  },
  {
   "cell_type": "markdown",
   "metadata": {},
   "source": [
    "## Scaling Data"
   ]
  },
  {
   "cell_type": "markdown",
   "metadata": {},
   "source": [
    "* SVM literature suggests that using attribute values with zero mean will improve the performance. We use **scikit-learn's** preprocessing module for the same.\n",
    "* From this filtered data, we now need to make a training and a test set. Since my roll number ends in 09, i shall use 9% of data as training set and the remaining as test set. Since the proportion of training data is very less in comparison to test data, the results are bound to be not too good."
   ]
  },
  {
   "cell_type": "code",
   "execution_count": 3,
   "metadata": {},
   "outputs": [],
   "source": [
    "from sklearn import preprocessing"
   ]
  },
  {
   "cell_type": "code",
   "execution_count": 4,
   "metadata": {},
   "outputs": [],
   "source": [
    "filtered_data=np.array(np.genfromtxt('filtered.txt', delimiter=',',autostrip=True))"
   ]
  },
  {
   "cell_type": "code",
   "execution_count": 5,
   "metadata": {},
   "outputs": [],
   "source": [
    "scaled_filtered_data=preprocessing.scale(filtered_data)"
   ]
  },
  {
   "cell_type": "code",
   "execution_count": 6,
   "metadata": {},
   "outputs": [],
   "source": [
    "salary=scaled_filtered_data[:,14]\n",
    "scaled_filtered_data=scaled_filtered_data[:,:-1]\n"
   ]
  },
  {
   "cell_type": "code",
   "execution_count": 7,
   "metadata": {},
   "outputs": [
    {
     "name": "stdout",
     "output_type": "stream",
     "text": [
      "[-0.57569132 -0.57569132 -0.57569132 ..., -0.57569132 -0.57569132\n",
      "  1.73704199]\n"
     ]
    }
   ],
   "source": [
    "print salary"
   ]
  },
  {
   "cell_type": "markdown",
   "metadata": {},
   "source": [
    "* We now see the obtained shape of the **filtered scaled** data."
   ]
  },
  {
   "cell_type": "code",
   "execution_count": 8,
   "metadata": {},
   "outputs": [
    {
     "name": "stdout",
     "output_type": "stream",
     "text": [
      "(30162, 14)\n"
     ]
    }
   ],
   "source": [
    "print scaled_filtered_data.shape"
   ]
  },
  {
   "cell_type": "markdown",
   "metadata": {},
   "source": [
    "* For the **Y** attribute, which is in our case salary, we set it to 1 and -1 according to positive and negative class."
   ]
  },
  {
   "cell_type": "code",
   "execution_count": 9,
   "metadata": {},
   "outputs": [],
   "source": [
    "from sklearn import svm\n",
    "salary2=np.array([-1]*len(salary))\n",
    "for i in range(0,len(salary2)):\n",
    "    if salary[i]>0:\n",
    "        salary2[i]=1\n"
   ]
  },
  {
   "cell_type": "markdown",
   "metadata": {},
   "source": [
    "## Paritioning data into test and train set"
   ]
  },
  {
   "cell_type": "markdown",
   "metadata": {},
   "source": [
    "* 9% of data is randomly chosen for **training** and the remainig is chosen for **testing**."
   ]
  },
  {
   "cell_type": "code",
   "execution_count": 15,
   "metadata": {},
   "outputs": [],
   "source": [
    "import random,math\n",
    "training_size_fraction=.09\n",
    "test_idx=np.array(random.sample(xrange(len(salary2)), int((1-training_size_fraction)*len(salary2))))\n",
    "train_idx=np.array([x for x in xrange(len(salary2)) if x not in test_idx])\n",
    "test_samples=scaled_filtered_data[test_idx]\n",
    "train_samples=scaled_filtered_data[train_idx]\n",
    "test_out=salary2[test_idx]\n",
    "train_out=salary2[train_idx]"
   ]
  },
  {
   "cell_type": "markdown",
   "metadata": {},
   "source": [
    "## Results using SMO based LibSVM implementation in Scikit Learn"
   ]
  },
  {
   "cell_type": "markdown",
   "metadata": {},
   "source": [
    "* We use a **linear** kernel.\n",
    "* We use Python's **time** module to find the time consumed.\n",
    "* It is based on SMO."
   ]
  },
  {
   "cell_type": "code",
   "execution_count": 17,
   "metadata": {},
   "outputs": [],
   "source": [
    "import time\n"
   ]
  },
  {
   "cell_type": "code",
   "execution_count": 29,
   "metadata": {},
   "outputs": [],
   "source": [
    "clf = svm.SVC(kernel='linear')\n",
    "libsvm_start=time.time()"
   ]
  },
  {
   "cell_type": "code",
   "execution_count": 30,
   "metadata": {},
   "outputs": [],
   "source": [
    "clf.fit(train_samples, train_out)\n",
    "libsvm_train_end=time.time()"
   ]
  },
  {
   "cell_type": "code",
   "execution_count": 31,
   "metadata": {},
   "outputs": [],
   "source": [
    "a=np.array(clf.predict(test_samples).astype(int))\n",
    "libsvm_test_end=time.time()\n",
    "c=a==np.array(test_out)\n",
    "c=np.array(a)==np.array(test_out)\n"
   ]
  },
  {
   "cell_type": "code",
   "execution_count": 35,
   "metadata": {},
   "outputs": [
    {
     "name": "stdout",
     "output_type": "stream",
     "text": [
      "Accuracy                                    :  81.2839290269 %\n",
      "Number of support vectors for positive class:  606\n",
      "Number of support vectors for negative class:  595\n",
      "Time Required for training                  :  0.947898864746 s\n",
      "Time Required for testing                   :  1.50630402565 s\n"
     ]
    }
   ],
   "source": [
    "print \"Accuracy                                    : \",str(sum(c)*100.0/len(a))+\" %\"\n",
    "print \"Number of support vectors for positive class: \",clf.n_support_[0]\n",
    "print \"Number of support vectors for negative class: \",clf.n_support_[1]\n",
    "print \"Time Required for training                  : \",str(libsvm_train_end-libsvm_start)+\" s\"\n",
    "print \"Time Required for testing                   : \",str(libsvm_test_end-libsvm_train_end)+\" s\"\n"
   ]
  },
  {
   "cell_type": "markdown",
   "metadata": {},
   "source": [
    "# Results using Dual form based SVMlight implementation provided by the SVMlight authors."
   ]
  },
  {
   "cell_type": "markdown",
   "metadata": {},
   "source": [
    "* SVM Light requires data to be in a specific format and that is what is being done in the next step. We create a **test.dat** and **train.dat** accordingly.\n",
    "* Moreover, we compile the **svmlight** binaries and call them as executables from Python program using subprocess module.\n",
    "* SVMLight is based on working set selection (steepest feasible descent). "
   ]
  },
  {
   "cell_type": "code",
   "execution_count": 50,
   "metadata": {},
   "outputs": [],
   "source": [
    "test_data_string=\"\"\n",
    "for i in range(0,len(test_out)):\n",
    "    if test_out[i]==1:\n",
    "        c='+1'\n",
    "    else:\n",
    "        c='-1'\n",
    "    test_data_string=test_data_string+c\n",
    "    for j in range(0,14):\n",
    "        test_data_string=test_data_string+\" \"+str(j+1)+\":\"+str(test_samples[i][j])\n",
    "    test_data_string=test_data_string+\"\\n\"\n",
    "f=open('test.dat','w')\n",
    "f.write(test_data_string)\n",
    "        "
   ]
  },
  {
   "cell_type": "code",
   "execution_count": 51,
   "metadata": {},
   "outputs": [],
   "source": [
    "train_data_string=\"\"\n",
    "for i in range(0,len(train_out)):\n",
    "    if train_out[i]==1:\n",
    "        c='+1'\n",
    "    else:\n",
    "        c='-1'\n",
    "    train_data_string=train_data_string+c\n",
    "    for j in range(0,14):\n",
    "        train_data_string=train_data_string+\" \"+str(j+1)+\":\"+str(train_samples[i][j])\n",
    "    train_data_string=train_data_string+\"\\n\"\n",
    "f=open('train.dat','w')\n",
    "f.write(train_data_string)"
   ]
  },
  {
   "cell_type": "code",
   "execution_count": 36,
   "metadata": {},
   "outputs": [],
   "source": [
    "import subprocess"
   ]
  },
  {
   "cell_type": "code",
   "execution_count": 37,
   "metadata": {},
   "outputs": [],
   "source": [
    "svmlight_start=time.time()\n",
    "p = subprocess.Popen('./svm_learn train.dat model', shell=True, stdout=subprocess.PIPE, stderr=subprocess.STDOUT)\n",
    "svmlight_train_end=time.time()\n",
    "train_output= p.stdout.readlines()"
   ]
  },
  {
   "cell_type": "code",
   "execution_count": 38,
   "metadata": {},
   "outputs": [],
   "source": [
    "p = subprocess.Popen('./svm_classify test.dat model', shell=True, stdout=subprocess.PIPE, stderr=subprocess.STDOUT)\n",
    "svmlight_test_end=time.time()\n",
    "test_output= p.stdout.readlines()"
   ]
  },
  {
   "cell_type": "code",
   "execution_count": 39,
   "metadata": {},
   "outputs": [
    {
     "data": {
      "text/plain": [
       "['Reading model...OK. (1262 support vectors read)\\n',\n",
       " 'Classifying test examples..100..200..300..400..500..600..700..800..900..1000..1100..1200..1300..1400..1500..1600..1700..1800..1900..2000..2100..2200..2300..2400..2500..2600..2700..2800..2900..3000..3100..3200..3300..3400..3500..3600..3700..3800..3900..4000..4100..4200..4300..4400..4500..4600..4700..4800..4900..5000..5100..5200..5300..5400..5500..5600..5700..5800..5900..6000..6100..6200..6300..6400..6500..6600..6700..6800..6900..7000..7100..7200..7300..7400..7500..7600..7700..7800..7900..8000..8100..8200..8300..8400..8500..8600..8700..8800..8900..9000..9100..9200..9300..9400..9500..9600..9700..9800..9900..10000..10100..10200..10300..10400..10500..10600..10700..10800..10900..11000..11100..11200..11300..11400..11500..11600..11700..11800..11900..12000..12100..12200..12300..12400..12500..12600..12700..12800..12900..13000..13100..13200..13300..13400..13500..13600..13700..13800..13900..14000..14100..14200..14300..14400..14500..14600..14700..14800..14900..15000..15100..15200..15300..15400..15500..15600..15700..15800..15900..16000..16100..16200..16300..16400..16500..16600..16700..16800..16900..17000..17100..17200..17300..17400..17500..17600..17700..17800..17900..18000..18100..18200..18300..18400..18500..18600..18700..18800..18900..19000..19100..19200..19300..19400..19500..19600..19700..19800..19900..20000..20100..20200..20300..20400..20500..20600..20700..20800..20900..21000..21100..21200..21300..21400..21500..21600..21700..21800..21900..22000..22100..22200..22300..22400..22500..22600..22700..22800..22900..23000..23100..23200..23300..23400..23500..23600..23700..23800..23900..24000..24100..24200..24300..24400..24500..24600..24700..24800..24900..25000..25100..25200..25300..25400..25500..25600..25700..25800..25900..26000..26100..26200..26300..26400..26500..26600..26700..26800..26900..27000..27100..27200..27300..27400..done\\n',\n",
       " 'Runtime (without IO) in cpu-seconds: 0.00\\n',\n",
       " 'Accuracy on test set: 81.62% (22402 correct, 5045 incorrect, 27447 total)\\n',\n",
       " 'Precision/recall on test set: 68.83%/48.42%\\n']"
      ]
     },
     "execution_count": 39,
     "metadata": {},
     "output_type": "execute_result"
    }
   ],
   "source": [
    "test_output"
   ]
  },
  {
   "cell_type": "code",
   "execution_count": 40,
   "metadata": {},
   "outputs": [
    {
     "data": {
      "text/plain": [
       "['Scanning examples...done\\n',\n",
       " 'Reading examples into memory...100..200..300..400..500..600..700..800..900..1000..1100..1200..1300..1400..1500..1600..1700..1800..1900..2000..2100..2200..2300..2400..2500..2600..2700..OK. (2715 examples read)\\n',\n",
       " 'Setting default regularization parameter C=0.0886\\n',\n",
       " 'Optimizing.......................................................................................................................................................................................................................................................................................................................................................................................................................................................................................................................................................................................................................................................................................................................................................................................................................................................................................................................................................................................................................................................................................................................................................................................................................................................................................................................................................................................................................................................................................done. (1432 iterations)\\n',\n",
       " 'Optimization finished (533 misclassified, maxdiff=0.00067).\\n',\n",
       " 'Runtime in cpu-seconds: 0.12\\n',\n",
       " 'Number of SV: 1262 (including 1245 at upper bound)\\n',\n",
       " 'L1 loss: loss=1236.86964\\n',\n",
       " 'Norm of weight vector: |w|=1.19922\\n',\n",
       " 'Norm of longest example vector: |x|=73.94389\\n',\n",
       " 'Estimated VCdim of classifier: VCdim<=300.27786\\n',\n",
       " 'Computing XiAlpha-estimates...done\\n',\n",
       " 'Runtime for XiAlpha-estimates in cpu-seconds: 0.00\\n',\n",
       " 'XiAlpha-estimate of the error: error<=46.48% (rho=1.00,depth=0)\\n',\n",
       " 'XiAlpha-estimate of the recall: recall=>2.33% (rho=1.00,depth=0)\\n',\n",
       " 'XiAlpha-estimate of the precision: precision=>2.32% (rho=1.00,depth=0)\\n',\n",
       " 'Number of kernel evaluations: 89900\\n',\n",
       " 'Writing model file...done\\n']"
      ]
     },
     "execution_count": 40,
     "metadata": {},
     "output_type": "execute_result"
    }
   ],
   "source": [
    "train_output"
   ]
  },
  {
   "cell_type": "code",
   "execution_count": 42,
   "metadata": {},
   "outputs": [
    {
     "name": "stdout",
     "output_type": "stream",
     "text": [
      "Accuracy                                    :  81.62 %\n",
      "Number of support vectors                   :  1262\n",
      "Time Required for training                  :  0.0196049213409 s\n",
      "Time Required for testing                   :  0.980164051056 s\n"
     ]
    }
   ],
   "source": [
    "print \"Accuracy                                    : \",str(81.62)+\" %\"\n",
    "print \"Number of support vectors                   :  1262\" \n",
    "print \"Time Required for training                  : \",str(svmlight_train_end-svmlight_start)+\" s\"\n",
    "print \"Time Required for testing                   : \",str(svmlight_test_end-svmlight_train_end)+\" s\""
   ]
  },
  {
   "cell_type": "markdown",
   "metadata": {},
   "source": [
    "# Results using Primal form based Pegasos implementation"
   ]
  },
  {
   "cell_type": "markdown",
   "metadata": {},
   "source": [
    "* Optimization Technique Used: SGD\n",
    "* Since the code provided by the authors did not talk about Support Vectors, i chose to implement the algorithm on my own in Python.\n",
    "* Caveat: One small routine is not vectorized and in thus taking a major chunk of the time.\n",
    "* We choose the following parameters as default:\n",
    "    * **k**: 10% of training data\n",
    "    * **T**: 1000\n",
    "    * **Lambda**: 1"
   ]
  },
  {
   "cell_type": "code",
   "execution_count": 91,
   "metadata": {},
   "outputs": [],
   "source": [
    "import pegasos\n",
    "pegasos_start_time=time.time()\n",
    "weight_vector,bias,sv_array=pegasos.train(train_samples,train_out,1,1000)\n",
    "pegasos_train_end=time.time()\n",
    "classification=pegasos.test(test_samples,test_out,a,b)\n",
    "pegasos_test_end=time.time()\n"
   ]
  },
  {
   "cell_type": "code",
   "execution_count": 93,
   "metadata": {},
   "outputs": [],
   "source": [
    "f=-1*ones(len(classification))\n",
    "idxz=classification>0\n",
    "f[idxz]=1\n",
    "f=f.astype(int)"
   ]
  },
  {
   "cell_type": "code",
   "execution_count": 94,
   "metadata": {},
   "outputs": [
    {
     "name": "stdout",
     "output_type": "stream",
     "text": [
      "Accuracy                                    :  77.5239552592%\n",
      "Number of support vectors                   :  266\n",
      "Time Required for training                  :  0.437710046768 s\n",
      "Time Required for testing                   :  0.0149388313293 s\n"
     ]
    }
   ],
   "source": [
    "print \"Accuracy                                    : \",str(100.0*sum(f==test_out)/len(test_out))+\"%\"\n",
    "print \"Number of support vectors                   : \",len(sv_array[(sv_array<.1) & (sv_array>-0.1)]) \n",
    "print \"Time Required for training                  : \",str(pegasos_train_end-pegasos_start_time)+\" s\"\n",
    "print \"Time Required for testing                   : \",str(pegasos_test_end-pegasos_train_end)+\" s\""
   ]
  },
  {
   "cell_type": "markdown",
   "metadata": {},
   "source": [
    "## Who is the winner?"
   ]
  },
  {
   "cell_type": "markdown",
   "metadata": {},
   "source": [
    "### Training Time"
   ]
  },
  {
   "cell_type": "code",
   "execution_count": 133,
   "metadata": {},
   "outputs": [
    {
     "data": {
      "image/png": "[encoded data removed]"
     },
     "metadata": {},
     "output_type": "display_data"
    }
   ],
   "source": [
    "figsize(7,5)\n",
    "bar(0,0.947898864746,label='LibSVM',color='r')\n",
    "bar(1,0.0196049213409,label='SVMLight',color='g')\n",
    "bar(2,0.437710046768,label='Pegasos');\n",
    "legend()\n",
    "ylabel(\"Time in seconds\")\n",
    "xlabel(\"Algorithms\");\n",
    "title(\"Training Time for different SVM implementations\");"
   ]
  },
  {
   "cell_type": "markdown",
   "metadata": {},
   "source": [
    "### Testing Time"
   ]
  },
  {
   "cell_type": "code",
   "execution_count": 134,
   "metadata": {},
   "outputs": [
    {
     "data": {
      "image/png": "[encoded data removed]"
     },
     "metadata": {},
     "output_type": "display_data"
    }
   ],
   "source": [
    "bar(0,1.50630402565,label='LibSVM',color='r')\n",
    "bar(1,0.980164051056,label='SVMLight',color='g')\n",
    "bar(2,0.0149388313293,label='Pegasos');\n",
    "legend()\n",
    "ylabel(\"Time in seconds\")\n",
    "xlabel(\"Algorithms\");\n",
    "title(\"Testing Time for different SVM implementations\");"
   ]
  },
  {
   "cell_type": "markdown",
   "metadata": {},
   "source": [
    "### Accuracy"
   ]
  },
  {
   "cell_type": "code",
   "execution_count": 135,
   "metadata": {},
   "outputs": [
    {
     "data": {
      "image/png": "[encoded data removed]"
     },
     "metadata": {},
     "output_type": "display_data"
    }
   ],
   "source": [
    "bar(0,81.2839290269,label='LibSVM',color='r')\n",
    "bar(1,81.62,label='SVMLight',color='g')\n",
    "bar(2,77.5239552592,label='Pegasos');\n",
    "legend()\n",
    "ylabel(\"Accuracy\")\n",
    "xlabel(\"Algorithms\");\n",
    "\n",
    "title(\"% Accuracy for different SVM implementations\");"
   ]
  },
  {
   "cell_type": "markdown",
   "metadata": {},
   "source": [
    "### Number of Support Vectors"
   ]
  },
  {
   "cell_type": "code",
   "execution_count": 137,
   "metadata": {},
   "outputs": [
    {
     "data": {
      "image/png": "[encoded data removed]"
     },
     "metadata": {},
     "output_type": "display_data"
    }
   ],
   "source": [
    "bar(0,1201,label='LibSVM',color='r')\n",
    "bar(1,1262,label='SVMLight',color='g')\n",
    "bar(2,266,label='Pegasos');\n",
    "legend()\n",
    "ylabel(\"Number of Support Vectors\")\n",
    "xlabel(\"Algorithms\");\n",
    "\n",
    "title(\"Number of Support Vectors for different SVM implementations\");"
   ]
  },
  {
   "cell_type": "markdown",
   "metadata": {},
   "source": [
    "### Theoretical comparison"
   ]
  },
  {
   "cell_type": "code",
   "execution_count": 140,
   "metadata": {},
   "outputs": [],
   "source": [
    "from IPython.display import Image\n",
    "Image(filename='svm.png');"
   ]
  },
  {
   "cell_type": "markdown",
   "metadata": {},
   "source": [
    "## Similarities"
   ]
  },
  {
   "cell_type": "markdown",
   "metadata": {},
   "source": [
    "* Working set selection and active set selection are both optimization tecniques used to optimize the SVM optimization problem and in general optimization problems. Sequential minimal optimization is one of the working set techniques.\n",
    "* Both the algorithms are iterative in nature. \n",
    "* Both the algorithms try to find which constraints would influence the final optimization result."
   ]
  },
  {
   "cell_type": "markdown",
   "metadata": {},
   "source": [
    "## Differences"
   ]
  },
  {
   "cell_type": "markdown",
   "metadata": {},
   "source": [
    "* As we can see from the above diagram, Active set selection is recommended to be used for medium size datasets. In contrast for large datasets, working set selection tecniques are recommended.\n",
    "* Memory complexity is $$O(n^2)$$, whereas for SMO it is $$O(n)$$\n",
    "* SMO chooses the constraints which violate KKT conditions and Active set selection strategy starts with a point satisfying the equality condition."
   ]
  },
  {
   "cell_type": "code",
   "execution_count": null,
   "metadata": {},
   "outputs": [],
   "source": []
  }
 ],
 "metadata": {
  "kernelspec": {
   "display_name": "Python 3",
   "language": "python",
   "name": "python3"
  },
  "language_info": {
   "codemirror_mode": {
    "name": "ipython",
    "version": 3
   },
   "file_extension": ".py",
   "mimetype": "text/x-python",
   "name": "python",
   "nbconvert_exporter": "python",
   "pygments_lexer": "ipython3",
   "version": "3.6.4"
  }
 },
 "nbformat": 4,
 "nbformat_minor": 1
}
