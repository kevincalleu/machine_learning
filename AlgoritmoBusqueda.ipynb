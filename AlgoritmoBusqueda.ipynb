{
 "cells": [
  {
   "cell_type": "markdown",
   "metadata": {},
   "source": [
    "# Algoritmo de Búsqueda"
   ]
  },
  {
   "cell_type": "markdown",
   "metadata": {},
   "source": [
    "**Nombre:** Kevin Fabricio Calle Urgilez\n",
    "\n",
    "**Asignatura:** Razonamiento y Planificación Automática\n",
    "\n",
    "**Fecha:** 24/05/18"
   ]
  },
  {
   "cell_type": "markdown",
   "metadata": {},
   "source": [
    "### Clase nodo con sus atributos y métodos"
   ]
  },
  {
   "cell_type": "code",
   "execution_count": 9,
   "metadata": {},
   "outputs": [],
   "source": [
    "# Se crea la clase \"NodoClass\" que genera y almacena la información de los nodos que se van creando.\n",
    "\n",
    "class NodoClass:\n",
    "    \n",
    "    # Esta clase tiene 7 métodos que actúan sobre los nodos. \n",
    "    # La clase se inicializa con los argumentos: pilaArg, mesaArg y accionArg\n",
    "    def __init__(self, pilaArg, mesaArg, accionArg):\n",
    "        self.pila = pilaArg\n",
    "        self.mesa = mesaArg\n",
    "        self.accion = accionArg\n",
    "        self.padre = None\n",
    "    \n",
    "    # Método que aumenta un nodo hijo a un nodo padre.\n",
    "    @staticmethod\n",
    "    def aumentarHijo(padre, hijo):\n",
    "        hijo.padre = padre\n",
    "        return hijo\n",
    "\n",
    "    # Método que apila un cubo desde la mesa a la pila. \n",
    "    # Pide como parámetro el nodo del estado presente y el índice del cubo que se va a apilar\n",
    "    @staticmethod\n",
    "    def apilarCubo(nodo, indice):\n",
    "        if (nodo == None):\n",
    "            return None\n",
    "        \n",
    "        pila = nodo.pila.copy()\n",
    "        mesa = nodo.mesa.copy()\n",
    "        \n",
    "        cubo = mesa.pop(indice)\n",
    "        pila.append(cubo)\n",
    "        \n",
    "        hijo = NodoClass(pila, mesa, \"apilar\")\n",
    "        hijo.padre = nodo\n",
    "        return hijo\n",
    "    \n",
    "    # Método que desapila un cubo desde la pila.\n",
    "    # pide como parámetro el nodo del estado presente.\n",
    "    @staticmethod\n",
    "    def desapilarCubo(nodo):\n",
    "        if (nodo == None or len(nodo.pila)==0):\n",
    "            return None\n",
    "        \n",
    "        pila = nodo.pila.copy()\n",
    "        mesa = nodo.mesa.copy() \n",
    "\n",
    "        cubo = pila.pop()\n",
    "        mesa.append(cubo)\n",
    "\n",
    "        hijo = NodoClass(pila, mesa, \"desapilar\")\n",
    "        hijo.padre = nodo\n",
    "        return hijo\n",
    "    \n",
    "    # Método que compara si dos nodos son iguales.\n",
    "    # Se usa para preguntar si un nodo presente es la respuesta.\n",
    "    @staticmethod\n",
    "    def sonIguales(nodo1, nodo2):\n",
    "        if nodo1.pila == nodo2.pila and nodo1.mesa == nodo2.mesa:\n",
    "            return True\n",
    "        return False\n",
    "    \n",
    "    # Método que muestra en pantalla los pasos que se deben seguir para resolver el problema.\n",
    "    @staticmethod\n",
    "    def imprimir(nodo):\n",
    "        if (nodo == None):\n",
    "            print('No encontrado')\n",
    "            return\n",
    "        print(nodo.pila, nodo.accion)\n",
    "        if (nodo.padre != None):\n",
    "            NodoClass.imprimir(nodo.padre)\n",
    "    \n",
    "    # Método que pregunta si un nodo existe en el árbol.\n",
    "    @staticmethod\n",
    "    def existe(nodo, arbol):\n",
    "        if (nodo == None or arbol == None):\n",
    "            return False\n",
    "        if (NodoClass.sonIguales(nodo, arbol)):\n",
    "            return True\n",
    "        return NodoClass.existe(nodo, arbol.padre)\n",
    "    \n",
    "    # Método que genera los nodos hijos desde un nodo padre. \n",
    "    @staticmethod\n",
    "    def calcularHijos(nodo):\n",
    "        hijos = []\n",
    "    \n",
    "        # Nodo cuando se desapila\n",
    "        hijo = NodoClass.desapilarCubo(nodo)\n",
    "        if (hijo != None):\n",
    "            hijos.append(hijo)\n",
    "        \n",
    "        # Nodos cuando se apila cubos\n",
    "        if (len(nodo.mesa) >= 1):\n",
    "            for indice in range(0, len(nodo.mesa)):\n",
    "                hijo = NodoClass.apilarCubo(nodo, indice)\n",
    "                if (hijo != None):\n",
    "                    hijos.append(hijo)\n",
    "        \n",
    "        return hijos"
   ]
  },
  {
   "cell_type": "markdown",
   "metadata": {},
   "source": [
    "### Función utilitaria"
   ]
  },
  {
   "cell_type": "code",
   "execution_count": 10,
   "metadata": {},
   "outputs": [],
   "source": [
    "# Función que elimina nodos hijos repetidos.\n",
    "def eliminarRepetidos(nodos, hijos):\n",
    "    resultado = []\n",
    "    for actual in range(0, len(hijos)):\n",
    "        sonIguales = False\n",
    "        for indiceNodos in range(0, len(nodos)):\n",
    "            if (NodoClass.sonIguales(hijos[actual], nodos[indiceNodos])):\n",
    "                sonIguales = True\n",
    "                break\n",
    "        if (not sonIguales):\n",
    "            resultado.append(hijos[actual])\n",
    "    return resultado"
   ]
  },
  {
   "cell_type": "markdown",
   "metadata": {},
   "source": [
    "### Algoritmo de búsqueda"
   ]
  },
  {
   "cell_type": "code",
   "execution_count": 11,
   "metadata": {},
   "outputs": [],
   "source": [
    "# Función que busca la respuesta del problema.\n",
    "# Pide como parámetros el estado inicial y el estado respuesta.\n",
    "def busqueda(nodoInicio, nodoFinal):\n",
    "    \n",
    "    # Se verifica si el primer nodo es la solución\n",
    "    if (NodoClass.sonIguales(nodoInicio, nodoFinal)):\n",
    "        return nodoInicio\n",
    "\n",
    "    nodos = [nodoInicio]\n",
    "    inicio = 0\n",
    "    fin = len(nodos)\n",
    "    nivel = 1\n",
    "    while (inicio<fin):\n",
    "        print(\"Nivel: \", nivel, \", Intervalo: [\", inicio, \",\", fin, \"[\")\n",
    "        # Con este tamaño comenzamos esta iteración\n",
    "        for actual in range(inicio, fin):\n",
    "            # Se calcula los hijos del nodo actual y se colocan en la lista\n",
    "            hijos = NodoClass.calcularHijos(nodos[actual])\n",
    "            \n",
    "            # Eliminar los repetidos, super demorada\n",
    "            hijos = eliminarRepetidos(nodos, hijos) ### ESTA estaba comentada\n",
    "            \n",
    "            # Hijos por considerar\n",
    "            nodos.extend(hijos)\n",
    "            \n",
    "            # Se verifican los hijos del nodo actual\n",
    "            for hijoIndice in range(0, len(hijos)):\n",
    "                if (NodoClass.sonIguales(hijos[hijoIndice], nodoFinal)):\n",
    "                    return hijos[hijoIndice]\n",
    "        # la proxima iteración se evaluan todos los hijos del nodo actual\n",
    "        inicio = fin\n",
    "        fin = len(nodos)\n",
    "        # Calculo del nivel\n",
    "        nivel = nivel + 1\n",
    "    return None"
   ]
  },
  {
   "cell_type": "code",
   "execution_count": 12,
   "metadata": {},
   "outputs": [
    {
     "name": "stdout",
     "output_type": "stream",
     "text": [
      "Nivel:  1 , Intervalo: [ 0 , 1 [\n",
      "Nivel:  2 , Intervalo: [ 1 , 4 [\n",
      "Nivel:  3 , Intervalo: [ 4 , 10 [\n",
      "Nivel:  4 , Intervalo: [ 10 , 21 [\n",
      "Nivel:  5 , Intervalo: [ 21 , 46 [\n",
      "Nivel:  6 , Intervalo: [ 46 , 101 [\n",
      "Los estados por los que pasa son: \n",
      "['A', 'B', 'C', 'D', 'E'] apilar\n",
      "['A', 'B', 'C', 'D'] apilar\n",
      "['A', 'B', 'C'] apilar\n",
      "['A', 'B'] apilar\n",
      "['A'] desapilar\n",
      "['A', 'D'] desapilar\n",
      "['A', 'D', 'E'] Inicio\n"
     ]
    }
   ],
   "source": [
    "# Se define un estado inicial y una estado final (Respuesta).\n",
    "nodoInicio = NodoClass(['A', 'D', 'E'], ['C', 'B'], \"Inicio\")\n",
    "nodoFinal = NodoClass(['A', 'B', 'C', 'D', 'E'], [], \"Final\")\n",
    "\n",
    "# Se usa la función para llegar desde un nodo inicial a un nodo final\n",
    "resultado = busqueda(nodoInicio, nodoFinal)\n",
    "\n",
    "print(\"Los estados por los que pasa son: \")\n",
    "NodoClass.imprimir(resultado)"
   ]
  },
  {
   "cell_type": "code",
   "execution_count": null,
   "metadata": {},
   "outputs": [],
   "source": []
  }
 ],
 "metadata": {
  "kernelspec": {
   "display_name": "Python 3",
   "language": "python",
   "name": "python3"
  },
  "language_info": {
   "codemirror_mode": {
    "name": "ipython",
    "version": 3
   },
   "file_extension": ".py",
   "mimetype": "text/x-python",
   "name": "python",
   "nbconvert_exporter": "python",
   "pygments_lexer": "ipython3",
   "version": "3.6.4"
  }
 },
 "nbformat": 4,
 "nbformat_minor": 2
}
